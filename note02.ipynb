{
  "nbformat": 4,
  "nbformat_minor": 0,
  "metadata": {
    "colab": {
      "name": "note02.ipynb",
      "provenance": [],
      "collapsed_sections": [],
      "authorship_tag": "ABX9TyP869YHxEE8cnYHVYoHVp9M",
      "include_colab_link": true
    },
    "kernelspec": {
      "name": "python3",
      "display_name": "Python 3"
    }
  },
  "cells": [
    {
      "cell_type": "markdown",
      "metadata": {
        "id": "view-in-github",
        "colab_type": "text"
      },
      "source": [
        "<a href=\"https://colab.research.google.com/github/metalnom/Colab_01/blob/master/note02.ipynb\" target=\"_parent\"><img src=\"https://colab.research.google.com/assets/colab-badge.svg\" alt=\"Open In Colab\"/></a>"
      ]
    },
    {
      "cell_type": "markdown",
      "metadata": {
        "id": "UxTCJ-4amWPa",
        "colab_type": "text"
      },
      "source": [
        "# 딥러닝 구현\n",
        "- 은닉층 활성화 함수: ReLU\n",
        "- 출력층 활성화 함수: Softmax\n",
        "- 손실 함수: 교차 엔트로피 오차\n",
        "- 최적화 알고리즘: 확률적 경사 하강법\n",
        "- 배치 사이즈: 8\n",
        "- 은닉층의 뉴런 수: 25\n",
        "- input_data는 평균 0, 표준편차 1로 표준화\n",
        "- correct_data는 원핫인코딩"
      ]
    },
    {
      "cell_type": "code",
      "metadata": {
        "id": "Z5pEHuNen3FM",
        "colab_type": "code",
        "colab": {}
      },
      "source": [
        ""
      ],
      "execution_count": 0,
      "outputs": []
    }
  ]
}