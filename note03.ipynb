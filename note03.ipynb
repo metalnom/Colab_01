{
  "nbformat": 4,
  "nbformat_minor": 0,
  "metadata": {
    "colab": {
      "name": " note03.ipynb",
      "provenance": [],
      "collapsed_sections": [],
      "mount_file_id": "1N9JFTnGFO4-cJl5O03hd9Vtipm_hWn0-",
      "authorship_tag": "ABX9TyNe7vnZwOjcIaaeXwfz5v8C",
      "include_colab_link": true
    },
    "kernelspec": {
      "name": "python3",
      "display_name": "Python 3"
    }
  },
  "cells": [
    {
      "cell_type": "markdown",
      "metadata": {
        "id": "view-in-github",
        "colab_type": "text"
      },
      "source": [
        "<a href=\"https://colab.research.google.com/github/metalnom/Colab_01/blob/master/note03.ipynb\" target=\"_parent\"><img src=\"https://colab.research.google.com/assets/colab-badge.svg\" alt=\"Open In Colab\"/></a>"
      ]
    },
    {
      "cell_type": "code",
      "metadata": {
        "id": "1nj8_-1PcDbW",
        "colab_type": "code",
        "colab": {}
      },
      "source": [
        ""
      ],
      "execution_count": 0,
      "outputs": []
    },
    {
      "cell_type": "markdown",
      "metadata": {
        "id": "7k02vUS0h_-6",
        "colab_type": "text"
      },
      "source": [
        "# CNN"
      ]
    },
    {
      "cell_type": "code",
      "metadata": {
        "id": "O1i4zjG1iBtK",
        "colab_type": "code",
        "colab": {}
      },
      "source": [
        ""
      ],
      "execution_count": 0,
      "outputs": []
    },
    {
      "cell_type": "markdown",
      "metadata": {
        "id": "Vn_HbQn-iCqr",
        "colab_type": "text"
      },
      "source": [
        "# img2col 구현"
      ]
    },
    {
      "cell_type": "code",
      "metadata": {
        "id": "AyBnnaYbiGGi",
        "colab_type": "code",
        "colab": {}
      },
      "source": [
        "import numpy as np\n",
        "\n",
        "def im2col(image, flt_h, flt_w, out_h, out_w):\n",
        "  img_h, img_w = image.shape\n",
        "\n",
        "  cols = np.zeros((flt_h*flt_w, out_h*out_w))\n",
        "\n",
        "  for h in range(out_h):\n",
        "    h_lim = h + flt_h\n",
        "    for w in range(out_w):\n",
        "      w_lim = w + flt_w\n",
        "      cols[:, h*out_w + w] = image[h:h_lim, w:w_lim].reshape(-1)\n",
        "\n",
        "  return cols"
      ],
      "execution_count": 0,
      "outputs": []
    },
    {
      "cell_type": "code",
      "metadata": {
        "id": "jiq6DTvTi0UH",
        "colab_type": "code",
        "colab": {
          "base_uri": "https://localhost:8080/",
          "height": 87
        },
        "outputId": "9e936af8-240e-4525-c80d-01e4c5482cd3"
      },
      "source": [
        "img = np.array([[1, 2, 3, 4],\n",
        "               [5, 6, 7, 8],\n",
        "               [9, 10, 11, 12],\n",
        "               [13, 14, 15, 16]])\n",
        "cols = im2col(img, 2, 2, 3, 3)\n",
        "print(cols)"
      ],
      "execution_count": 4,
      "outputs": [
        {
          "output_type": "stream",
          "text": [
            "[[ 1.  2.  3.  5.  6.  7.  9. 10. 11.]\n",
            " [ 2.  3.  4.  6.  7.  8. 10. 11. 12.]\n",
            " [ 5.  6.  7.  9. 10. 11. 13. 14. 15.]\n",
            " [ 6.  7.  8. 10. 11. 12. 14. 15. 16.]]\n"
          ],
          "name": "stdout"
        }
      ]
    },
    {
      "cell_type": "code",
      "metadata": {
        "id": "FSxzDAVNmwBg",
        "colab_type": "code",
        "colab": {}
      },
      "source": [
        "# 배열 접근을 줄여 속도 향상\n",
        "\n",
        "import numpy as np\n",
        "\n",
        "def im2col(image, flt_h, flt_w, out_h, out_w):\n",
        "  img_h, img_w = image.shape\n",
        "  cols = np.zeros((flt_h, flt_w, out_h, out_w))\n",
        "\n",
        "  for h in range(flt_h):\n",
        "    h_lim = h + out_h\n",
        "    for w in range(flt_w):\n",
        "      w_lim = w + out_w\n",
        "      cols[h, w, :, :] = image[h:h_lim, w:w_lim]\n",
        "  \n",
        "  cols = cols.reshape(flt_h*flt_w, out_h*out_w)\n",
        "\n",
        "  return cols"
      ],
      "execution_count": 0,
      "outputs": []
    },
    {
      "cell_type": "code",
      "metadata": {
        "id": "SVA3Jx1fnzkm",
        "colab_type": "code",
        "colab": {
          "base_uri": "https://localhost:8080/",
          "height": 87
        },
        "outputId": "e839aaa6-cd3a-43d4-c427-2cf02cde1c0a"
      },
      "source": [
        "cols = im2col(img, 2, 2, 3, 3)\n",
        "print(cols)"
      ],
      "execution_count": 6,
      "outputs": [
        {
          "output_type": "stream",
          "text": [
            "[[ 1.  2.  3.  5.  6.  7.  9. 10. 11.]\n",
            " [ 2.  3.  4.  6.  7.  8. 10. 11. 12.]\n",
            " [ 5.  6.  7.  9. 10. 11. 13. 14. 15.]\n",
            " [ 6.  7.  8. 10. 11. 12. 14. 15. 16.]]\n"
          ],
          "name": "stdout"
        }
      ]
    },
    {
      "cell_type": "markdown",
      "metadata": {
        "id": "gJs3L3hmuTGd",
        "colab_type": "text"
      },
      "source": [
        "![대체 텍스트](https://drive.google.com/uc?id=1BnfOIre_bhgSq9KHAI-sW8oUmdQ_EIvK)"
      ]
    },
    {
      "cell_type": "code",
      "metadata": {
        "id": "yHa7sT9Cul7c",
        "colab_type": "code",
        "colab": {}
      },
      "source": [
        ""
      ],
      "execution_count": 0,
      "outputs": []
    }
  ]
}