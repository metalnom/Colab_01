{
  "nbformat": 4,
  "nbformat_minor": 0,
  "metadata": {
    "colab": {
      "name": " note03.ipynb",
      "provenance": [],
      "collapsed_sections": [],
      "mount_file_id": "1N9JFTnGFO4-cJl5O03hd9Vtipm_hWn0-",
      "authorship_tag": "ABX9TyMvACrnyTvN9134K/aQsO9E",
      "include_colab_link": true
    },
    "kernelspec": {
      "name": "python3",
      "display_name": "Python 3"
    }
  },
  "cells": [
    {
      "cell_type": "markdown",
      "metadata": {
        "id": "view-in-github",
        "colab_type": "text"
      },
      "source": [
        "<a href=\"https://colab.research.google.com/github/metalnom/Colab_01/blob/master/note03.ipynb\" target=\"_parent\"><img src=\"https://colab.research.google.com/assets/colab-badge.svg\" alt=\"Open In Colab\"/></a>"
      ]
    },
    {
      "cell_type": "markdown",
      "metadata": {
        "id": "7k02vUS0h_-6",
        "colab_type": "text"
      },
      "source": [
        "# CNN"
      ]
    },
    {
      "cell_type": "markdown",
      "metadata": {
        "id": "Vn_HbQn-iCqr",
        "colab_type": "text"
      },
      "source": [
        "# img2col 구현"
      ]
    },
    {
      "cell_type": "code",
      "metadata": {
        "id": "AyBnnaYbiGGi",
        "colab_type": "code",
        "colab": {}
      },
      "source": [
        "import numpy as np\n",
        "\n",
        "def im2col(image, flt_h, flt_w, out_h, out_w):\n",
        "  img_h, img_w = image.shape\n",
        "\n",
        "  cols = np.zeros((flt_h*flt_w, out_h*out_w))\n",
        "\n",
        "  for h in range(out_h):\n",
        "    h_lim = h + flt_h\n",
        "    for w in range(out_w):\n",
        "      w_lim = w + flt_w\n",
        "      cols[:, h*out_w + w] = image[h:h_lim, w:w_lim].reshape(-1)\n",
        "\n",
        "  return cols"
      ],
      "execution_count": 0,
      "outputs": []
    },
    {
      "cell_type": "code",
      "metadata": {
        "id": "jiq6DTvTi0UH",
        "colab_type": "code",
        "colab": {
          "base_uri": "https://localhost:8080/",
          "height": 87
        },
        "outputId": "2b9c915a-eac0-4c56-ee39-c5122a34b920"
      },
      "source": [
        "img = np.array([[1, 2, 3, 4],\n",
        "               [5, 6, 7, 8],\n",
        "               [9, 10, 11, 12],\n",
        "               [13, 14, 15, 16]])\n",
        "cols = im2col(img, 2, 2, 3, 3)\n",
        "print(cols)"
      ],
      "execution_count": 19,
      "outputs": [
        {
          "output_type": "stream",
          "text": [
            "[[ 1.  2.  3.  5.  6.  7.  9. 10. 11.]\n",
            " [ 2.  3.  4.  6.  7.  8. 10. 11. 12.]\n",
            " [ 5.  6.  7.  9. 10. 11. 13. 14. 15.]\n",
            " [ 6.  7.  8. 10. 11. 12. 14. 15. 16.]]\n"
          ],
          "name": "stdout"
        }
      ]
    },
    {
      "cell_type": "code",
      "metadata": {
        "id": "FSxzDAVNmwBg",
        "colab_type": "code",
        "colab": {}
      },
      "source": [
        "# 배열 접근을 줄여 속도 향상\n",
        "\n",
        "import numpy as np\n",
        "\n",
        "def im2col(image, flt_h, flt_w, out_h, out_w):\n",
        "  img_h, img_w = image.shape\n",
        "  cols = np.zeros((flt_h, flt_w, out_h, out_w))\n",
        "\n",
        "  for h in range(flt_h):\n",
        "    h_lim = h + out_h\n",
        "    for w in range(flt_w):\n",
        "      w_lim = w + out_w\n",
        "      cols[h, w, :, :] = image[h:h_lim, w:w_lim]\n",
        "  \n",
        "  cols = cols.reshape(flt_h*flt_w, out_h*out_w)\n",
        "\n",
        "  return cols"
      ],
      "execution_count": 0,
      "outputs": []
    },
    {
      "cell_type": "code",
      "metadata": {
        "id": "SVA3Jx1fnzkm",
        "colab_type": "code",
        "colab": {
          "base_uri": "https://localhost:8080/",
          "height": 87
        },
        "outputId": "ebc75928-7f5b-4bd4-aad9-86da0ab40513"
      },
      "source": [
        "cols = im2col(img, 2, 2, 3, 3)\n",
        "print(cols)"
      ],
      "execution_count": 21,
      "outputs": [
        {
          "output_type": "stream",
          "text": [
            "[[ 1.  2.  3.  5.  6.  7.  9. 10. 11.]\n",
            " [ 2.  3.  4.  6.  7.  8. 10. 11. 12.]\n",
            " [ 5.  6.  7.  9. 10. 11. 13. 14. 15.]\n",
            " [ 6.  7.  8. 10. 11. 12. 14. 15. 16.]]\n"
          ],
          "name": "stdout"
        }
      ]
    },
    {
      "cell_type": "markdown",
      "metadata": {
        "id": "BfeyNaGAxQm0",
        "colab_type": "text"
      },
      "source": [
        "# 배치와 채널을 고려한 img2col"
      ]
    },
    {
      "cell_type": "code",
      "metadata": {
        "id": "ZDjzzbbozQxT",
        "colab_type": "code",
        "colab": {}
      },
      "source": [
        "def im2col(images, flt_h, flt_w, out_h, out_w):\n",
        "  n_bt, n_ch, img_h, img_w = images.shape\n",
        "  cols = np.zeros((n_bt, n_ch, flt_h, flt_w, out_h, out_w))\n",
        "\n",
        "  for h in range(flt_h):\n",
        "    h_lim = h + out_h\n",
        "    for w in range(flt_w):\n",
        "      w_lim = w + out_w\n",
        "      cols[:, :, h, w, :, :] = images[:, :, h:h_lim, w:w_lim]\n",
        "  \n",
        "  cols = cols.transpose(1, 2, 3, 0, 4, 5).reshape(\n",
        "      n_ch * flt_h * flt_w, n_bt * out_h * out_w)\n",
        "  return cols"
      ],
      "execution_count": 0,
      "outputs": []
    },
    {
      "cell_type": "code",
      "metadata": {
        "id": "rAJtfOWv1clr",
        "colab_type": "code",
        "colab": {}
      },
      "source": [
        "img = np.array([[[[1, 2, 3, 4],\n",
        "               [5, 6, 7, 8],\n",
        "               [9, 10, 11, 12],\n",
        "               [13, 14, 15, 16]]]])"
      ],
      "execution_count": 0,
      "outputs": []
    },
    {
      "cell_type": "code",
      "metadata": {
        "id": "hKvjNTnn1lbl",
        "colab_type": "code",
        "colab": {
          "base_uri": "https://localhost:8080/",
          "height": 87
        },
        "outputId": "8cb7613f-9a85-4f22-e203-24471883c8af"
      },
      "source": [
        "cols = im2col(img, 2, 2, 3, 3)\n",
        "print(cols)"
      ],
      "execution_count": 26,
      "outputs": [
        {
          "output_type": "stream",
          "text": [
            "[[ 1.  2.  3.  5.  6.  7.  9. 10. 11.]\n",
            " [ 2.  3.  4.  6.  7.  8. 10. 11. 12.]\n",
            " [ 5.  6.  7.  9. 10. 11. 13. 14. 15.]\n",
            " [ 6.  7.  8. 10. 11. 12. 14. 15. 16.]]\n"
          ],
          "name": "stdout"
        }
      ]
    },
    {
      "cell_type": "markdown",
      "metadata": {
        "id": "FtMXs7PV2Jnw",
        "colab_type": "text"
      },
      "source": [
        "# 패딩과 스트라이딩을 고려"
      ]
    },
    {
      "cell_type": "code",
      "metadata": {
        "id": "L6mafzMG2ZQd",
        "colab_type": "code",
        "colab": {}
      },
      "source": [
        "def im2col(images, flt_h, flt_w, out_h, out_w, stride, pad):\n",
        "  n_bt, n_ch, img_h, img_w = images.shape\n",
        "\n",
        "  img_pad = np.pad(images, [(0, 0), (0, 0), (pad, pad), (pad, pad)], \"constant\" )\n",
        "  print(\"img_pad\\n\", img_pad)\n",
        "  cols = np.zeros((n_bt, n_ch, flt_h, flt_w, out_h, out_w))\n",
        "\n",
        "  for h in range(flt_h):\n",
        "    h_lim = h + stride*out_h\n",
        "    for w in range(flt_w):\n",
        "      w_lim = w + stride*out_w\n",
        "      cols[:, :, h, w, :, :] = img_pad[:, :, h:h_lim:stride, w:w_lim:stride]\n",
        "  \n",
        "  cols = cols.transpose(1, 2, 3, 0, 4, 5).reshape(n_ch*flt_h*flt_w, n_bt*out_h*out_w)\n",
        "  return cols"
      ],
      "execution_count": 0,
      "outputs": []
    },
    {
      "cell_type": "code",
      "metadata": {
        "id": "HnBO_IDL25ZD",
        "colab_type": "code",
        "colab": {
          "base_uri": "https://localhost:8080/",
          "height": 210
        },
        "outputId": "1e18eb0c-82b7-4a52-c778-0b75e02e48bd"
      },
      "source": [
        "cols = im2col(img, 2, 2, 3, 3, 1, 1)\n",
        "print(cols)"
      ],
      "execution_count": 43,
      "outputs": [
        {
          "output_type": "stream",
          "text": [
            "img_pad\n",
            " [[[[ 0  0  0  0  0  0]\n",
            "   [ 0  1  2  3  4  0]\n",
            "   [ 0  5  6  7  8  0]\n",
            "   [ 0  9 10 11 12  0]\n",
            "   [ 0 13 14 15 16  0]\n",
            "   [ 0  0  0  0  0  0]]]]\n",
            "[[ 0.  0.  0.  0.  1.  2.  0.  5.  6.]\n",
            " [ 0.  0.  0.  1.  2.  3.  5.  6.  7.]\n",
            " [ 0.  1.  2.  0.  5.  6.  0.  9. 10.]\n",
            " [ 1.  2.  3.  5.  6.  7.  9. 10. 11.]]\n"
          ],
          "name": "stdout"
        }
      ]
    },
    {
      "cell_type": "markdown",
      "metadata": {
        "id": "mrUG3PTf48iX",
        "colab_type": "text"
      },
      "source": [
        "# col2img 구현"
      ]
    },
    {
      "cell_type": "code",
      "metadata": {
        "id": "FFmRwYyj6XX0",
        "colab_type": "code",
        "colab": {}
      },
      "source": [
        "import numpy as np\n",
        "\n",
        "def col2im(cols, img_shape, flt_h, flt_w, out_h, out_w, stride, pad):\n",
        "  n_bt, n_ch, img_h, img_w = img_shape\n",
        "\n",
        "  cols = cols.reshape(n_ch, flt_h, flt_w, n_bt, out_h, out_w).transpose(3, 0, 1, 2, 4, 5)\n",
        "  images = np.zeros((n_bt, n_ch, img_h + 2*pad + stride - 1, img_w + 2*pad + stride - 1))\n",
        "\n",
        "  for h in range(flt_h):\n",
        "    h_lim = h + stride * out_h\n",
        "    for w in range(flt_w):\n",
        "      w_lim = w + stride * out_w\n",
        "      images[:, :, h:h_lim:stride, w:w_lim:stride] += cols[:, :, h, w, :, :]\n",
        "  \n",
        "  return images[:, :, pad:img_h+pad, pad:img_w+pad]"
      ],
      "execution_count": 0,
      "outputs": []
    },
    {
      "cell_type": "code",
      "metadata": {
        "id": "uPcrohDe7T_m",
        "colab_type": "code",
        "colab": {
          "base_uri": "https://localhost:8080/",
          "height": 70
        },
        "outputId": "565c5652-50c7-4369-d722-b0dffcda1490"
      },
      "source": [
        "cols = np.ones((4, 4))\n",
        "img_shape = (1, 1, 3, 3)\n",
        "images = col2im(cols, img_shape, 2, 2, 2, 2, 1, 0)\n",
        "print(images)"
      ],
      "execution_count": 45,
      "outputs": [
        {
          "output_type": "stream",
          "text": [
            "[[[[1. 2. 1.]\n",
            "   [2. 4. 2.]\n",
            "   [1. 2. 1.]]]]\n"
          ],
          "name": "stdout"
        }
      ]
    },
    {
      "cell_type": "markdown",
      "metadata": {
        "id": "5Lpea3rr8CAR",
        "colab_type": "text"
      },
      "source": [
        "# 콘볼루션층 구현"
      ]
    },
    {
      "cell_type": "code",
      "metadata": {
        "id": "TgLK0NEL8tXV",
        "colab_type": "code",
        "colab": {}
      },
      "source": [
        "import numpy as np\n",
        "\n",
        "class ConvLayer:\n",
        "  def __init__(self, x_ch, x_h, x_w, n_flt, flt_h, flt_w, stride, pad):\n",
        "    self.params = (x_ch, x_h, x_w, n_flt, flt_h, flt_w, stride, pad)\n",
        "\n",
        "    self.w = wb_width * np.random.randn(n_flt, x_ch, flt_h, flt_w)\n",
        "    self.b = wb_width * np.random.randn(1, n_flt)\n",
        "\n",
        "    self.y_ch = n_flt\n",
        "    self.y_h = (x_h - flt_h + 2*pad) // stride + 1\n",
        "    self.y_w = (x_w - flt_w + 2*pad) // stride + 1\n",
        "\n",
        "  def forward(self, x):\n",
        "    n_bt = x.shape[0]\n",
        "    x_ch, x_h, x_w, n_flt, flt_h, flt_w, stride, pad = self.params\n",
        "    y_ch, y_h, y_w = self.y_ch, self.y_h, self.y_w\n",
        "\n",
        "    self.cols = im2col(x, flt_h, flt_w, y_h, y_w, stride, pad)\n",
        "    self.w_col = self.w.reshape(n_flt, x_ch*flt_h*flt_w)\n",
        "\n",
        "    u = np.dot(self.w_col, self.cols).T + self.b\n",
        "    self.u = u.reshape(n_bt, y_h, y_w, y_ch).transpose(0, 3, 1, 2)\n",
        "    self.y = np.where(self.u <= 0, 0, self.u)\n",
        "\n",
        "  def backward(self, grad_y):\n",
        "    n_bt = grad_y.shape[0]\n",
        "    x_ch, x_h, x_w, n_flt, flt_h, flt_w, stride, pad = self.params\n",
        "    y_ch, y_h, y_w = self.y_ch, self.y_h, self.y_w\n",
        "\n",
        "    delta = grad_y * np.where(self.u <=0, 0, 1)\n",
        "    delta = delta.transpose(0, 2, 3, 1).reshape(n_bt * y_h * y_w, y_ch)\n",
        "\n",
        "    grad_w = np.dot(self.cols, delta)\n",
        "    self.grad_w = grad_w.T.reshape(n_flt, x_ch, flt_h, flt_w)\n",
        "    self.grad_b = np.sum(delta, axis=0)\n",
        "\n",
        "    grad_cols = np.dot(delta, self.w_col)\n",
        "    x_shape = (n_bt, x_ch, x_h, x_w)\n",
        "    self.grad_x = col2im(grad_cols.T, x_shape, flt_h, flt_w, y_h, y_w, stride, pad)"
      ],
      "execution_count": 0,
      "outputs": []
    }
  ]
}