{
  "nbformat": 4,
  "nbformat_minor": 0,
  "metadata": {
    "colab": {
      "name": " note03.ipynb",
      "provenance": [],
      "collapsed_sections": [],
      "toc_visible": true,
      "mount_file_id": "1N9JFTnGFO4-cJl5O03hd9Vtipm_hWn0-",
      "authorship_tag": "ABX9TyNObWYlaKXjV1kwmIeZKXFb",
      "include_colab_link": true
    },
    "kernelspec": {
      "name": "python3",
      "display_name": "Python 3"
    }
  },
  "cells": [
    {
      "cell_type": "markdown",
      "metadata": {
        "id": "view-in-github",
        "colab_type": "text"
      },
      "source": [
        "<a href=\"https://colab.research.google.com/github/metalnom/Colab_01/blob/master/note03.ipynb\" target=\"_parent\"><img src=\"https://colab.research.google.com/assets/colab-badge.svg\" alt=\"Open In Colab\"/></a>"
      ]
    },
    {
      "cell_type": "markdown",
      "metadata": {
        "id": "7k02vUS0h_-6",
        "colab_type": "text"
      },
      "source": [
        "# CNN"
      ]
    },
    {
      "cell_type": "markdown",
      "metadata": {
        "id": "Vn_HbQn-iCqr",
        "colab_type": "text"
      },
      "source": [
        "# img2col 구현"
      ]
    },
    {
      "cell_type": "code",
      "metadata": {
        "id": "AyBnnaYbiGGi",
        "colab_type": "code",
        "colab": {}
      },
      "source": [
        "import numpy as np\n",
        "\n",
        "def im2col(image, flt_h, flt_w, out_h, out_w):\n",
        "  img_h, img_w = image.shape\n",
        "\n",
        "  cols = np.zeros((flt_h*flt_w, out_h*out_w))\n",
        "\n",
        "  for h in range(out_h):\n",
        "    h_lim = h + flt_h\n",
        "    for w in range(out_w):\n",
        "      w_lim = w + flt_w\n",
        "      cols[:, h*out_w + w] = image[h:h_lim, w:w_lim].reshape(-1)\n",
        "\n",
        "  return cols"
      ],
      "execution_count": 0,
      "outputs": []
    },
    {
      "cell_type": "code",
      "metadata": {
        "id": "jiq6DTvTi0UH",
        "colab_type": "code",
        "outputId": "f7f2d481-a0dd-4c06-c1de-d4759588ddb2",
        "colab": {
          "base_uri": "https://localhost:8080/",
          "height": 87
        }
      },
      "source": [
        "img = np.array([[1, 2, 3, 4],\n",
        "               [5, 6, 7, 8],\n",
        "               [9, 10, 11, 12],\n",
        "               [13, 14, 15, 16]])\n",
        "cols = im2col(img, 2, 2, 3, 3)\n",
        "print(cols)"
      ],
      "execution_count": 2,
      "outputs": [
        {
          "output_type": "stream",
          "text": [
            "[[ 1.  2.  3.  5.  6.  7.  9. 10. 11.]\n",
            " [ 2.  3.  4.  6.  7.  8. 10. 11. 12.]\n",
            " [ 5.  6.  7.  9. 10. 11. 13. 14. 15.]\n",
            " [ 6.  7.  8. 10. 11. 12. 14. 15. 16.]]\n"
          ],
          "name": "stdout"
        }
      ]
    },
    {
      "cell_type": "code",
      "metadata": {
        "id": "FSxzDAVNmwBg",
        "colab_type": "code",
        "colab": {}
      },
      "source": [
        "# 배열 접근을 줄여 속도 향상\n",
        "\n",
        "import numpy as np\n",
        "\n",
        "def im2col(image, flt_h, flt_w, out_h, out_w):\n",
        "  img_h, img_w = image.shape\n",
        "  cols = np.zeros((flt_h, flt_w, out_h, out_w))\n",
        "\n",
        "  for h in range(flt_h):\n",
        "    h_lim = h + out_h\n",
        "    for w in range(flt_w):\n",
        "      w_lim = w + out_w\n",
        "      cols[h, w, :, :] = image[h:h_lim, w:w_lim]\n",
        "  \n",
        "  cols = cols.reshape(flt_h*flt_w, out_h*out_w)\n",
        "\n",
        "  return cols"
      ],
      "execution_count": 0,
      "outputs": []
    },
    {
      "cell_type": "code",
      "metadata": {
        "id": "SVA3Jx1fnzkm",
        "colab_type": "code",
        "outputId": "76f6dce4-fa55-4ae4-911d-2c4d90a169d5",
        "colab": {
          "base_uri": "https://localhost:8080/",
          "height": 87
        }
      },
      "source": [
        "cols = im2col(img, 2, 2, 3, 3)\n",
        "print(cols)"
      ],
      "execution_count": 4,
      "outputs": [
        {
          "output_type": "stream",
          "text": [
            "[[ 1.  2.  3.  5.  6.  7.  9. 10. 11.]\n",
            " [ 2.  3.  4.  6.  7.  8. 10. 11. 12.]\n",
            " [ 5.  6.  7.  9. 10. 11. 13. 14. 15.]\n",
            " [ 6.  7.  8. 10. 11. 12. 14. 15. 16.]]\n"
          ],
          "name": "stdout"
        }
      ]
    },
    {
      "cell_type": "markdown",
      "metadata": {
        "id": "BfeyNaGAxQm0",
        "colab_type": "text"
      },
      "source": [
        "# 배치와 채널을 고려한 img2col"
      ]
    },
    {
      "cell_type": "code",
      "metadata": {
        "id": "ZDjzzbbozQxT",
        "colab_type": "code",
        "colab": {}
      },
      "source": [
        "def im2col(images, flt_h, flt_w, out_h, out_w):\n",
        "  n_bt, n_ch, img_h, img_w = images.shape\n",
        "  cols = np.zeros((n_bt, n_ch, flt_h, flt_w, out_h, out_w))\n",
        "\n",
        "  for h in range(flt_h):\n",
        "    h_lim = h + out_h\n",
        "    for w in range(flt_w):\n",
        "      w_lim = w + out_w\n",
        "      cols[:, :, h, w, :, :] = images[:, :, h:h_lim, w:w_lim]\n",
        "  \n",
        "  cols = cols.transpose(1, 2, 3, 0, 4, 5).reshape(\n",
        "      n_ch * flt_h * flt_w, n_bt * out_h * out_w)\n",
        "  return cols"
      ],
      "execution_count": 0,
      "outputs": []
    },
    {
      "cell_type": "code",
      "metadata": {
        "id": "rAJtfOWv1clr",
        "colab_type": "code",
        "colab": {}
      },
      "source": [
        "img = np.array([[[[1, 2, 3, 4],\n",
        "               [5, 6, 7, 8],\n",
        "               [9, 10, 11, 12],\n",
        "               [13, 14, 15, 16]]]])"
      ],
      "execution_count": 0,
      "outputs": []
    },
    {
      "cell_type": "code",
      "metadata": {
        "id": "hKvjNTnn1lbl",
        "colab_type": "code",
        "outputId": "9671150d-c465-4797-b86e-6ff1d6cff1ae",
        "colab": {
          "base_uri": "https://localhost:8080/",
          "height": 87
        }
      },
      "source": [
        "cols = im2col(img, 2, 2, 3, 3)\n",
        "print(cols)"
      ],
      "execution_count": 7,
      "outputs": [
        {
          "output_type": "stream",
          "text": [
            "[[ 1.  2.  3.  5.  6.  7.  9. 10. 11.]\n",
            " [ 2.  3.  4.  6.  7.  8. 10. 11. 12.]\n",
            " [ 5.  6.  7.  9. 10. 11. 13. 14. 15.]\n",
            " [ 6.  7.  8. 10. 11. 12. 14. 15. 16.]]\n"
          ],
          "name": "stdout"
        }
      ]
    },
    {
      "cell_type": "markdown",
      "metadata": {
        "id": "FtMXs7PV2Jnw",
        "colab_type": "text"
      },
      "source": [
        "# 패딩과 스트라이딩을 고려"
      ]
    },
    {
      "cell_type": "code",
      "metadata": {
        "id": "L6mafzMG2ZQd",
        "colab_type": "code",
        "colab": {}
      },
      "source": [
        "def im2col(images, flt_h, flt_w, out_h, out_w, stride, pad):\n",
        "  n_bt, n_ch, img_h, img_w = images.shape\n",
        "\n",
        "  img_pad = np.pad(images, [(0, 0), (0, 0), (pad, pad), (pad, pad)], \"constant\" )\n",
        "  print(\"img_pad\\n\", img_pad)\n",
        "  cols = np.zeros((n_bt, n_ch, flt_h, flt_w, out_h, out_w))\n",
        "\n",
        "  for h in range(flt_h):\n",
        "    h_lim = h + stride*out_h\n",
        "    for w in range(flt_w):\n",
        "      w_lim = w + stride*out_w\n",
        "      cols[:, :, h, w, :, :] = img_pad[:, :, h:h_lim:stride, w:w_lim:stride]\n",
        "  \n",
        "  cols = cols.transpose(1, 2, 3, 0, 4, 5).reshape(n_ch*flt_h*flt_w, n_bt*out_h*out_w)\n",
        "  return cols"
      ],
      "execution_count": 0,
      "outputs": []
    },
    {
      "cell_type": "code",
      "metadata": {
        "id": "HnBO_IDL25ZD",
        "colab_type": "code",
        "outputId": "32b5c61c-5994-418d-94bf-6aa234a19793",
        "colab": {
          "base_uri": "https://localhost:8080/",
          "height": 210
        }
      },
      "source": [
        "cols = im2col(img, 2, 2, 3, 3, 1, 1)\n",
        "print(cols)"
      ],
      "execution_count": 9,
      "outputs": [
        {
          "output_type": "stream",
          "text": [
            "img_pad\n",
            " [[[[ 0  0  0  0  0  0]\n",
            "   [ 0  1  2  3  4  0]\n",
            "   [ 0  5  6  7  8  0]\n",
            "   [ 0  9 10 11 12  0]\n",
            "   [ 0 13 14 15 16  0]\n",
            "   [ 0  0  0  0  0  0]]]]\n",
            "[[ 0.  0.  0.  0.  1.  2.  0.  5.  6.]\n",
            " [ 0.  0.  0.  1.  2.  3.  5.  6.  7.]\n",
            " [ 0.  1.  2.  0.  5.  6.  0.  9. 10.]\n",
            " [ 1.  2.  3.  5.  6.  7.  9. 10. 11.]]\n"
          ],
          "name": "stdout"
        }
      ]
    },
    {
      "cell_type": "markdown",
      "metadata": {
        "id": "mrUG3PTf48iX",
        "colab_type": "text"
      },
      "source": [
        "# col2img 구현"
      ]
    },
    {
      "cell_type": "code",
      "metadata": {
        "id": "FFmRwYyj6XX0",
        "colab_type": "code",
        "colab": {}
      },
      "source": [
        "import numpy as np\n",
        "\n",
        "def col2im(cols, img_shape, flt_h, flt_w, out_h, out_w, stride, pad):\n",
        "  n_bt, n_ch, img_h, img_w = img_shape\n",
        "\n",
        "  cols = cols.reshape(n_ch, flt_h, flt_w, n_bt, out_h, out_w).transpose(3, 0, 1, 2, 4, 5)\n",
        "  images = np.zeros((n_bt, n_ch, img_h + 2*pad + stride - 1, img_w + 2*pad + stride - 1))\n",
        "\n",
        "  for h in range(flt_h):\n",
        "    h_lim = h + stride * out_h\n",
        "    for w in range(flt_w):\n",
        "      w_lim = w + stride * out_w\n",
        "      images[:, :, h:h_lim:stride, w:w_lim:stride] += cols[:, :, h, w, :, :]\n",
        "  \n",
        "  return images[:, :, pad:img_h+pad, pad:img_w+pad]"
      ],
      "execution_count": 0,
      "outputs": []
    },
    {
      "cell_type": "code",
      "metadata": {
        "id": "uPcrohDe7T_m",
        "colab_type": "code",
        "outputId": "45bc9b49-a9e4-4b2f-e3ab-ae1a8e7e57f5",
        "colab": {
          "base_uri": "https://localhost:8080/",
          "height": 70
        }
      },
      "source": [
        "cols = np.ones((4, 4))\n",
        "img_shape = (1, 1, 3, 3)\n",
        "images = col2im(cols, img_shape, 2, 2, 2, 2, 1, 0)\n",
        "print(images)"
      ],
      "execution_count": 11,
      "outputs": [
        {
          "output_type": "stream",
          "text": [
            "[[[[1. 2. 1.]\n",
            "   [2. 4. 2.]\n",
            "   [1. 2. 1.]]]]\n"
          ],
          "name": "stdout"
        }
      ]
    },
    {
      "cell_type": "markdown",
      "metadata": {
        "id": "5Lpea3rr8CAR",
        "colab_type": "text"
      },
      "source": [
        "# 콘볼루션층 구현"
      ]
    },
    {
      "cell_type": "code",
      "metadata": {
        "id": "TgLK0NEL8tXV",
        "colab_type": "code",
        "colab": {}
      },
      "source": [
        "import numpy as np\n",
        "\n",
        "class ConvLayer:\n",
        "  def __init__(self, x_ch, x_h, x_w, n_flt, flt_h, flt_w, stride, pad):\n",
        "    self.params = (x_ch, x_h, x_w, n_flt, flt_h, flt_w, stride, pad)\n",
        "\n",
        "    self.w = wb_width * np.random.randn(n_flt, x_ch, flt_h, flt_w)\n",
        "    self.b = wb_width * np.random.randn(1, n_flt)\n",
        "\n",
        "    self.y_ch = n_flt\n",
        "    self.y_h = (x_h - flt_h + 2*pad) // stride + 1\n",
        "    self.y_w = (x_w - flt_w + 2*pad) // stride + 1\n",
        "\n",
        "  def forward(self, x):\n",
        "    n_bt = x.shape[0]\n",
        "    x_ch, x_h, x_w, n_flt, flt_h, flt_w, stride, pad = self.params\n",
        "    y_ch, y_h, y_w = self.y_ch, self.y_h, self.y_w\n",
        "\n",
        "    self.cols = im2col(x, flt_h, flt_w, y_h, y_w, stride, pad)\n",
        "    self.w_col = self.w.reshape(n_flt, x_ch*flt_h*flt_w)\n",
        "\n",
        "    u = np.dot(self.w_col, self.cols).T + self.b\n",
        "    self.u = u.reshape(n_bt, y_h, y_w, y_ch).transpose(0, 3, 1, 2)\n",
        "    self.y = np.where(self.u <= 0, 0, self.u)\n",
        "\n",
        "  def backward(self, grad_y):\n",
        "    n_bt = grad_y.shape[0]\n",
        "    x_ch, x_h, x_w, n_flt, flt_h, flt_w, stride, pad = self.params\n",
        "    y_ch, y_h, y_w = self.y_ch, self.y_h, self.y_w\n",
        "\n",
        "    delta = grad_y * np.where(self.u <=0, 0, 1)\n",
        "    delta = delta.transpose(0, 2, 3, 1).reshape(n_bt * y_h * y_w, y_ch)\n",
        "\n",
        "    grad_w = np.dot(self.cols, delta)\n",
        "    self.grad_w = grad_w.T.reshape(n_flt, x_ch, flt_h, flt_w)\n",
        "    self.grad_b = np.sum(delta, axis=0)\n",
        "\n",
        "    grad_cols = np.dot(delta, self.w_col)\n",
        "    x_shape = (n_bt, x_ch, x_h, x_w)\n",
        "    self.grad_x = col2im(grad_cols.T, x_shape, flt_h, flt_w, y_h, y_w, stride, pad)"
      ],
      "execution_count": 0,
      "outputs": []
    },
    {
      "cell_type": "code",
      "metadata": {
        "id": "Ok4YsO1Gl4FZ",
        "colab_type": "code",
        "colab": {}
      },
      "source": [
        ""
      ],
      "execution_count": 0,
      "outputs": []
    },
    {
      "cell_type": "markdown",
      "metadata": {
        "id": "Q-xXbJCKl9V-",
        "colab_type": "text"
      },
      "source": [
        "# 풀링층 구현"
      ]
    },
    {
      "cell_type": "code",
      "metadata": {
        "id": "thuA0_qBmAX6",
        "colab_type": "code",
        "colab": {}
      },
      "source": [
        "class PoolingLayer:\n",
        "  def __init__(self, x_ch, x_h, x_w, pool, pad):\n",
        "    self.params = (x_ch, x_h, x_w, pool, pad)\n",
        "    self.y_ch = x_ch\n",
        "    self.y_h = x_h//pool if x_h%pool==0 else x_h//pool+1\n",
        "    self.y_w = x_w//pool if x_w%pool==0 else x_w//pool+1\n",
        "\n",
        "  def forward(self, x):\n",
        "    n_bt = x.shape[0]\n",
        "    x_ch, x_h, x_w, pool, pad = self.params\n",
        "    y_ch, y_h, y_w = self.y_ch, self.y_h, self.y_w\n",
        "    \n",
        "    cols = im2col(x, pool, pool, y_h, y_w, pool, pad)\n",
        "    cols = cols.T.reshape(n_bt*y_h*y_w*x_ch, pool*pool)\n",
        "\n",
        "    y = np.max(cols, axis=1)\n",
        "    self.y = y.reshape(n_bt, y_h, y_w, x_ch).transpose(0, 3, 1, 2)\n",
        "\n",
        "    self.max_index = np.argmax(cols, axis=1)\n",
        "\n",
        "  def backward(self, grad_y):\n",
        "    n_bt = grad_y.shape[0]\n",
        "    x_ch, x_h, x_w, pool, pad = self.params\n",
        "    y_ch, y_h, y_w = self.y_ch, self.y_h, self.y_w\n",
        "\n",
        "    grad_y = grad_y.transpose(0, 2, 3, 1)\n",
        "\n",
        "    grad_cols = np.zeros((pool*pool, grad_y.size))\n",
        "    grad_cols[self.max_index.reshape(-1), np.arange(grad_y.size)] = grad_y.reshape(-1)\n",
        "    grad_cols = grad_cols.reshape(pool, pool, n_bt, y_h, y_w, y_ch)\n",
        "    grad_cols = grad_cols.transpose(5, 0, 1, 2, 3, 4)\n",
        "    grad_cols = grad_cols.reshape(y_ch*pool*pool, n_bt*y_h*y_w)\n",
        "\n",
        "    x_shape = (n_bt, x_ch, x_h, x_w)\n",
        "    self.grad_x = col2im(grad_cols, x_shape, pool, pool, y_h, y_w, pool, pad)"
      ],
      "execution_count": 0,
      "outputs": []
    },
    {
      "cell_type": "code",
      "metadata": {
        "id": "dqqHjbqAqyvM",
        "colab_type": "code",
        "colab": {}
      },
      "source": [
        ""
      ],
      "execution_count": 0,
      "outputs": []
    },
    {
      "cell_type": "markdown",
      "metadata": {
        "id": "4EkrSAa7qzuJ",
        "colab_type": "text"
      },
      "source": [
        "# 전결합층 구현"
      ]
    },
    {
      "cell_type": "code",
      "metadata": {
        "id": "HkCuf7y3q1h-",
        "colab_type": "code",
        "colab": {}
      },
      "source": [
        "class BaseLayer:\n",
        "  def __init__(self, n_upper, n):\n",
        "    self.w = wb_width * np.random.randn(n_upper, n)\n",
        "    self.b = wb_width * np.random.randn(n)\n",
        "\n",
        "  def update(self, eta):\n",
        "    self.w -= eta * self.grad_w\n",
        "    self.b -= eta * self.grad_b"
      ],
      "execution_count": 0,
      "outputs": []
    },
    {
      "cell_type": "code",
      "metadata": {
        "id": "Owit4WR_rghn",
        "colab_type": "code",
        "colab": {}
      },
      "source": [
        "class MiddleLayer(BaseLayer):\n",
        "  def forward(self, x):\n",
        "    self.x = x\n",
        "    self.u = np.dot(x, self.w) + self.b\n",
        "    self.y = np.where(self.u <= 0, 0, self.u)\n",
        "\n",
        "  def backward(self, grad_y):\n",
        "    delta = grad_y * np.where(self.u <= 0, 0, 1)\n",
        "    self.grad_w = np.dot(self.x.T, delta)\n",
        "    self.grad_b = np.sum(delta, axis=0)\n",
        "    self.grad_x = np.dot(delta, self.w.T)\n",
        "\n",
        "\n",
        "class OutputLayer(BaseLayer):\n",
        "  def forward(self, x):\n",
        "    self.x = x\n",
        "    u = np.dot(x, self.w) + self.b\n",
        "    self.y = np.exp(u)/np.sum(np.exp(u), axis=1).reshape(-1)\n",
        "\n",
        "  def backward(self, t):\n",
        "    delta = self.y - t\n",
        "    self.grad_w = np.dot(self.x.T, delta)\n",
        "    self.grad_b = np.sum(delta, axis=0)\n",
        "    self.grad_x = np.dot(delta, self.w.T)"
      ],
      "execution_count": 0,
      "outputs": []
    },
    {
      "cell_type": "code",
      "metadata": {
        "id": "3PKoo1jssmzE",
        "colab_type": "code",
        "colab": {}
      },
      "source": [
        ""
      ],
      "execution_count": 0,
      "outputs": []
    },
    {
      "cell_type": "markdown",
      "metadata": {
        "id": "1JdeOKnDswHZ",
        "colab_type": "text"
      },
      "source": [
        "# 데이터셋 로드"
      ]
    },
    {
      "cell_type": "code",
      "metadata": {
        "id": "SLa9SKMSsyBl",
        "colab_type": "code",
        "colab": {
          "base_uri": "https://localhost:8080/",
          "height": 282
        },
        "outputId": "ebb3a5cb-0d8d-4b1a-bdc5-fbd75427a3d6"
      },
      "source": [
        "import matplotlib.pyplot as plt\n",
        "from sklearn import datasets\n",
        "\n",
        "digits = datasets.load_digits()\n",
        "print(digits.data.shape)\n",
        "\n",
        "plt.imshow(digits.data[0].reshape(8, 8), cmap=\"gray\")\n",
        "plt.show()"
      ],
      "execution_count": 16,
      "outputs": [
        {
          "output_type": "stream",
          "text": [
            "(1797, 64)\n"
          ],
          "name": "stdout"
        },
        {
          "output_type": "display_data",
          "data": {
            "image/png": "[encoded data removed]",
            "text/plain": [
              "<Figure size 432x288 with 1 Axes>"
            ]
          },
          "metadata": {
            "tags": [],
            "needs_background": "light"
          }
        }
      ]
    },
    {
      "cell_type": "code",
      "metadata": {
        "id": "FLLScFOitCuO",
        "colab_type": "code",
        "colab": {
          "base_uri": "https://localhost:8080/",
          "height": 70
        },
        "outputId": "bc2e92ca-fd72-4b0d-b860-52c229216c19"
      },
      "source": [
        "print(digits.target.shape)\n",
        "print(digits.target[:50])"
      ],
      "execution_count": 18,
      "outputs": [
        {
          "output_type": "stream",
          "text": [
            "(1797,)\n",
            "[0 1 2 3 4 5 6 7 8 9 0 1 2 3 4 5 6 7 8 9 0 1 2 3 4 5 6 7 8 9 0 9 5 5 6 5 0\n",
            " 9 8 9 8 4 1 7 7 3 5 1 0 0]\n"
          ],
          "name": "stdout"
        }
      ]
    },
    {
      "cell_type": "code",
      "metadata": {
        "id": "yBYKo1tTtP7f",
        "colab_type": "code",
        "colab": {
          "base_uri": "https://localhost:8080/",
          "height": 34
        },
        "outputId": "da3d7436-f8d4-4933-aa7d-d1342e800767"
      },
      "source": [
        "%reset"
      ],
      "execution_count": 113,
      "outputs": [
        {
          "output_type": "stream",
          "text": [
            "Once deleted, variables cannot be recovered. Proceed (y/[n])? y\n"
          ],
          "name": "stdout"
        }
      ]
    },
    {
      "cell_type": "markdown",
      "metadata": {
        "id": "4dMi59sntxi7",
        "colab_type": "text"
      },
      "source": [
        "# CNN 코드"
      ]
    },
    {
      "cell_type": "code",
      "metadata": {
        "id": "t4Lu9R2Et0wF",
        "colab_type": "code",
        "colab": {}
      },
      "source": [
        "import numpy as np\n",
        "import matplotlib.pyplot as plt\n",
        "from sklearn import datasets\n",
        "\n",
        "digits_data = datasets.load_digits()\n",
        "input_data = digits_data.data\n",
        "correct = digits_data.target\n",
        "n_data = len(correct)\n",
        "\n",
        "ave_input = np.average(input_data)\n",
        "std_input = np.std(input_data)\n",
        "input_data = (input_data - ave_input) / std_input\n",
        "\n",
        "correct_data = np.zeros((n_data, 10))\n",
        "\n",
        "for i in range(n_data):\n",
        "  correct_data[i, correct[i]] = 1.0\n",
        "\n",
        "index = np.arange(n_data)\n",
        "index_train = index[index%3 != 0]\n",
        "index_test = index[index%3 == 0]\n",
        "\n",
        "input_train = input_data[index_train, :]\n",
        "correct_train = correct_data[index_train, :]\n",
        "input_test = input_data[index_test, :]\n",
        "correct_test = correct_data[index_test, :]\n",
        "\n",
        "n_train = input_train.shape[0]\n",
        "n_test = input_train.shape[0]"
      ],
      "execution_count": 0,
      "outputs": []
    },
    {
      "cell_type": "code",
      "metadata": {
        "id": "kMuuyDBhvHcl",
        "colab_type": "code",
        "colab": {}
      },
      "source": [
        "img_h = 8\n",
        "img_w = 8\n",
        "img_ch = 1\n",
        "\n",
        "wb_width = 0.1\n",
        "eta = 0.01\n",
        "epoch = 50\n",
        "batch_size = 8\n",
        "interval = 10\n",
        "n_sample = 200"
      ],
      "execution_count": 0,
      "outputs": []
    },
    {
      "cell_type": "code",
      "metadata": {
        "id": "aRUxt5vRvXSn",
        "colab_type": "code",
        "colab": {}
      },
      "source": [
        "def im2col(images, flt_h, flt_w, out_h, out_w, stride, pad):\n",
        "  n_bt, n_ch, img_h, img_w = images.shape\n",
        "  img_pad = np.pad(images, [(0, 0), (0, 0), (pad, pad), (pad, pad)], \"constant\")\n",
        "  cols = np.zeros((n_bt, n_ch, flt_h, flt_w, out_h, out_w))\n",
        "\n",
        "  for h in range(flt_h):\n",
        "    h_lim = h + stride*out_h\n",
        "    for w in range(flt_w):\n",
        "      w_lim = w + stride*out_w\n",
        "      cols[:, :, h, w, :, :] = img_pad[:, :, h:h_lim:stride, w:w_lim:stride]\n",
        "\n",
        "  cols = cols.transpose(1, 2, 3, 0, 4, 5).reshape(n_ch*flt_h*flt_w, n_bt*out_h*out_w)\n",
        "  return cols\n",
        "\n",
        "def col2im(cols, img_shape, flt_h, flt_w, out_h, out_w, stride, pad):\n",
        "  n_bt, n_ch, img_h, img_w = img_shape\n",
        "  cols = cols.reshape(n_ch, flt_h, flt_w, n_bt, out_h, out_w).transpose(3, 0, 1, 2, 4, 5)\n",
        "  images = np.zeros((n_bt, n_ch, img_h+2*pad+stride-1, img_w+2*pad+stride-1))\n",
        "\n",
        "  for h in range(flt_h):\n",
        "    h_lim = h + stride*out_h\n",
        "    for w in range(flt_w):\n",
        "      w_lim = w + stride*out_w\n",
        "      images[:, :, h:h_lim:stride, w:w_lim:stride] += cols[:, :, h, w, :, :]\n",
        "  \n",
        "  return images[:, :, pad:img_h+pad, pad:img_w+pad]"
      ],
      "execution_count": 0,
      "outputs": []
    },
    {
      "cell_type": "code",
      "metadata": {
        "id": "F4ITr4o8xPs1",
        "colab_type": "code",
        "colab": {}
      },
      "source": [
        "class ConvLayer:\n",
        "  def __init__(self, x_ch, x_h, x_w, n_flt, flt_h, flt_w, stride, pad):\n",
        "    self.params = (x_ch, x_h, x_w, n_flt, flt_h, flt_w, stride, pad)\n",
        "    self.w = wb_width * np.random.randn(n_flt, x_ch, flt_h, flt_w)\n",
        "    self.b = wb_width * np.random.randn(1, n_flt)\n",
        "    self.y_ch = n_flt\n",
        "    self.y_h = (x_h - flt_h + 2*pad) // stride + 1\n",
        "    self.y_w = (x_w - flt_w + 2*pad) // stride + 1\n",
        "\n",
        "    self.h_w = np.zeros((n_flt, x_ch, flt_h, flt_w)) + 1e-8\n",
        "    self.h_b = np.zeros((1, n_flt)) + 1e-8\n",
        "\n",
        "  def forward(self, x):\n",
        "    n_bt = x.shape[0]\n",
        "    x_ch, x_h, x_w, n_flt, flt_h, flt_w, stride, pad = self.params\n",
        "    y_ch, y_h, y_w = self.y_ch, self.y_h, self.y_w\n",
        "\n",
        "    self.cols = im2col(x, flt_h, flt_w, y_h, y_w, stride, pad)\n",
        "    self.w_col = self.w.reshape(n_flt, x_ch*flt_h*flt_w)\n",
        "\n",
        "    u = np.dot(self.w_col, self.cols).T + self.b\n",
        "    self.u = u.reshape(n_bt, y_h, y_w, y_ch).transpose(0, 3, 1, 2)\n",
        "    self.y = np.where(self.u <= 0, 0, self.u)\n",
        "\n",
        "  def backward(self, grad_y):\n",
        "    n_bt = grad_y.shape[0]\n",
        "    x_ch, x_h, x_w, n_flt, flt_h, flt_w, stride, pad = self.params\n",
        "    y_ch, y_h, y_w = self.y_ch, self.y_h, self.y_w\n",
        "\n",
        "    delta = grad_y * np.where(self.u <= 0, 0, 1)\n",
        "    delta = delta.transpose(0, 2, 3, 1).reshape(n_bt*y_h*y_w, y_ch)\n",
        "\n",
        "    grad_w = np.dot(self.cols, delta)\n",
        "    self.grad_w = grad_w.T.reshape(n_flt, x_ch, flt_h, flt_w)\n",
        "    self.grad_b = np.sum(delta, axis=0)\n",
        "\n",
        "    grad_cols = np.dot(delta, self.w_col)\n",
        "    x_shape = (n_bt, x_ch, x_h, x_w)\n",
        "    self.grad_x = col2im(grad_cols.T, x_shape, flt_h, flt_w, y_h, y_w, stride, pad)\n",
        "\n",
        "  def update(self, eta):\n",
        "    self.h_w += self.grad_w * self.grad_w\n",
        "    self.w -= eta / np.sqrt(self.h_w) * self.grad_w\n",
        "    self.h_b += self.grad_b * self.grad_b\n",
        "    self.b -= eta / np.sqrt(self.h_b) * self.grad_b "
      ],
      "execution_count": 0,
      "outputs": []
    },
    {
      "cell_type": "code",
      "metadata": {
        "id": "kGmGYMXk0JU1",
        "colab_type": "code",
        "colab": {}
      },
      "source": [
        "class PoolingLayer:\n",
        "  def __init__(self, x_ch, x_h, x_w, pool, pad):\n",
        "    self.params = (x_ch, x_h, x_w, pool, pad)\n",
        "    self.y_ch = x_ch\n",
        "    self.y_h = x_h// pool if x_h%pool==0 else x_h//pool + 1\n",
        "    self.y_w = x_w//pool if x_w%pool==0 else x_w//pool + 1\n",
        "\n",
        "  def forward(self, x):\n",
        "    n_bt = x.shape[0]\n",
        "    x_ch, x_h, x_w, pool, pad = self.params\n",
        "    y_ch, y_h, y_w = self.y_ch, self.y_h, self.y_w\n",
        "\n",
        "    cols = im2col(x, pool, pool, y_h, y_w, pool, pad)\n",
        "    cols = cols.T.reshape(n_bt*y_h*y_w*x_ch, pool*pool)\n",
        "\n",
        "    y = np.max(cols, axis=1)\n",
        "    self.y = y.reshape(n_bt, y_h, y_w, x_ch).transpose(0, 3, 1, 2)\n",
        "\n",
        "    self.max_index = np.argmax(cols, axis=1)\n",
        "\n",
        "  def backward(self, grad_y):\n",
        "    n_bt = grad_y.shape[0]\n",
        "    x_ch, x_h, x_w, pool, pad = self.params\n",
        "    y_ch, y_h, y_w = self.y_ch, self.y_h, self.y_w\n",
        "\n",
        "    grad_y = grad_y.transpose(0, 2, 3, 1)\n",
        "\n",
        "    grad_cols = np.zeros((pool*pool, grad_y.size))\n",
        "\n",
        "    grad_cols[self.max_index.reshape(-1), np.arange(grad_y.size)] = grad_y.reshape(-1)\n",
        "    grad_cols = grad_cols.reshape(pool, pool, n_bt, y_h, y_w, y_ch)\n",
        "    grad_cols = grad_cols.transpose(5, 0, 1, 2, 3, 4)\n",
        "    grad_cols = grad_cols.reshape(y_ch*pool*pool, n_bt*y_h*y_w)\n",
        "\n",
        "    x_shape = (n_bt, x_ch, x_h, x_w)\n",
        "    self.grad_x = col2im(grad_cols, x_shape, pool, pool, y_h, y_w, pool, pad)\n"
      ],
      "execution_count": 0,
      "outputs": []
    },
    {
      "cell_type": "code",
      "metadata": {
        "id": "5BNPEWQC0P1w",
        "colab_type": "code",
        "colab": {}
      },
      "source": [
        "class BaseLayer:\n",
        "  def __init__(self, n_upper, n):\n",
        "    self.w = wb_width * np.random.randn(n_upper, n)\n",
        "    self.b = wb_width * np.random.randn(n)\n",
        "\n",
        "    self.h_w = np.zeros((n_upper, n)) + 1e-8\n",
        "    self.h_b = np.zeros(n) + 1e-8\n",
        "\n",
        "  def update(self, eta):\n",
        "    self.h_w += self.grad_w * self.grad_w\n",
        "    self.w -= eta / np.sqrt(self.h_w) * self.grad_w\n",
        "    self.h_b += self.grad_b * self.grad_b\n",
        "    self.b -= eta / np.sqrt(self.h_b) * self.grad_b"
      ],
      "execution_count": 0,
      "outputs": []
    },
    {
      "cell_type": "code",
      "metadata": {
        "id": "iK1vPOmW3b8-",
        "colab_type": "code",
        "colab": {}
      },
      "source": [
        "class MiddleLayer(BaseLayer):\n",
        "  def forward(self, x):\n",
        "    self.x = x\n",
        "    self.u = np.dot(x, self.w) + self.b\n",
        "    self.y = np.where(self.u <= 0, 0, self.u)\n",
        "\n",
        "  def backward(self, grad_y):\n",
        "    delta = grad_y * np.where(self.u <= 0, 0, 1)\n",
        "    self.grad_w = np.dot(self.x.T, delta)\n",
        "    self.grad_b = np.sum(delta, axis=0)\n",
        "    self.grad_x = np.dot(delta, self.w.T)\n",
        "\n",
        "class OutputLayer(BaseLayer):\n",
        "  def forward(self, x):\n",
        "    self.x = x\n",
        "    u = np.dot(x, self.w) + self.b\n",
        "    self.y = np.exp(u)/np.sum(np.exp(u), axis=1).reshape(-1, 1)\n",
        "\n",
        "  def backward(self, t):\n",
        "    delta = self.y - t\n",
        "    self.grad_w = np.dot(self.x.T, delta)\n",
        "    self.grad_b = np.sum(delta, axis=0)\n",
        "    self.grad_x = np.dot(delta, self.w.T)\n",
        "\n",
        "\n",
        "class Dropout:\n",
        "  def __init__(self, dropout_ratio):\n",
        "    self.dropout_ratio = dropout_ratio\n",
        "  \n",
        "  def forward(self, x, is_train):\n",
        "    if is_train:\n",
        "      rand = np.random.rand(*x.shape)\n",
        "      self.dropout = np.where(rand > self.dropout_ratio, 1, 0)\n",
        "      self.y = x * self.dropout\n",
        "    else:\n",
        "      self.y = (1-self.dropout_ratio)*x\n",
        "  \n",
        "  def backward(self, grad_y):\n",
        "    self.grad_x = grad_y * self.dropout"
      ],
      "execution_count": 0,
      "outputs": []
    },
    {
      "cell_type": "markdown",
      "metadata": {
        "id": "INh8ejz2-kII",
        "colab_type": "text"
      },
      "source": [
        "# CNN 구축"
      ]
    },
    {
      "cell_type": "code",
      "metadata": {
        "id": "SBdidLkr-nNv",
        "colab_type": "code",
        "colab": {}
      },
      "source": [
        "cl_1 = ConvLayer(img_ch, img_h, img_w, 10, 3, 3, 1, 1)\n",
        "cl_2 = ConvLayer(cl_1.y_ch, cl_1.y_h, cl_1.y_w, 10, 3, 3, 1, 1)\n",
        "pl_1 = PoolingLayer(cl_2.y_ch, cl_2.y_h, cl_2.y_w, 2, 0)\n",
        "\n",
        "n_fc_in = pl_1.y_ch * pl_1.y_h * pl_1.y_w\n",
        "ml_1 = MiddleLayer(n_fc_in, 200)\n",
        "dr_1 = Dropout(0.5)\n",
        "\n",
        "ml_2 = MiddleLayer(200, 200)\n",
        "dr_2 = Dropout(0.5)\n",
        "\n",
        "ol_1 = OutputLayer(200, 10)\n",
        "\n",
        "\n",
        "def forward_propagation(x, is_train):\n",
        "  n_bt = x.shape[0]\n",
        "\n",
        "  images = x.reshape(n_bt, img_ch, img_h, img_w)\n",
        "  cl_1.forward(images)\n",
        "  cl_2.forward(cl_1.y)\n",
        "  pl_1.forward(cl_2.y)\n",
        "\n",
        "  fc_input = pl_1.y.reshape(n_bt, -1)\n",
        "  ml_1.forward(fc_input)\n",
        "  dr_1.forward(ml_1.y, is_train)\n",
        "  ml_2.forward(dr_1.y)\n",
        "  dr_2.forward(ml_2.y, is_train)\n",
        "  ol_1.forward(dr_2.y)\n",
        "\n",
        "def backward_propagation(t):\n",
        "  n_bt = t.shape[0]\n",
        "\n",
        "  ol_1.backward(t)\n",
        "  dr_2.backward(ol_1.grad_x)\n",
        "  ml_2.backward(dr_2.grad_x)\n",
        "  dr_1.backward(ml_2.grad_x)\n",
        "  ml_1.backward(dr_1.grad_x)\n",
        "\n",
        "  grad_img = ml_1.grad_x.reshape(n_bt, pl_1.y_ch, pl_1.y_h, pl_1.y_w)\n",
        "  pl_1.backward(grad_img)\n",
        "  cl_2.backward(pl_1.grad_x)\n",
        "  cl_1.backward(cl_2.grad_x)\n",
        "\n",
        "def update_wb():\n",
        "  cl_1.update(eta)\n",
        "  cl_2.update(eta)\n",
        "  ml_1.update(eta)\n",
        "  ml_2.update(eta)\n",
        "  ol_1.update(eta)\n",
        "\n",
        "def get_error(t, batch_size):\n",
        "  return -np.sum(t * np.log(ol_1.y + 1e-7)) / batch_size\n",
        "\n",
        "def forward_sample(inp, correct, n_sample):\n",
        "  index_rand = np.arange(len(correct))\n",
        "  np.random.shuffle(index_rand)\n",
        "  index_rand = index_rand[:n_sample]\n",
        "  x = inp[index_rand, :]\n",
        "  t = correct[index_rand, :]\n",
        "  forward_propagation(x, False)\n",
        "  return x, t"
      ],
      "execution_count": 0,
      "outputs": []
    },
    {
      "cell_type": "markdown",
      "metadata": {
        "id": "4OmpcuXxAiHt",
        "colab_type": "text"
      },
      "source": [
        "# CNN 학습\n"
      ]
    },
    {
      "cell_type": "code",
      "metadata": {
        "id": "Eo1z_WwZAkla",
        "colab_type": "code",
        "colab": {
          "base_uri": "https://localhost:8080/",
          "height": 385
        },
        "outputId": "c2d9b7ec-1efb-44f1-edeb-bcd4d63d35c9"
      },
      "source": [
        "train_error_x = []\n",
        "train_error_y = []\n",
        "test_error_x = []\n",
        "test_error_y = []\n",
        "\n",
        "n_batch = n_train // batch_size\n",
        "for i in range(epoch):\n",
        "  x, t = forward_sample(input_train, correct_train, n_sample)\n",
        "  error_train = get_error(t, n_sample)\n",
        "\n",
        "  x, t = forward_sample(input_test, correct_test, n_sample)\n",
        "  error_test = get_error(t, n_sample)\n",
        "\n",
        "  train_error_x.append(i)\n",
        "  train_error_y.append(error_train)\n",
        "  test_error_x.append(i)\n",
        "  test_error_y.append(error_test)\n",
        "\n",
        "  if i%interval == 0:\n",
        "    print(\"Epoch: \" + str(i) + \"/\" + str(epoch),\n",
        "          \"Error_train: \" + str(error_train),\n",
        "          \"Error_test: \" + str(error_test))\n",
        "    \n",
        "  index_rand = np.arange(n_train)\n",
        "  np.random.shuffle(index_rand)\n",
        "  for j in range(n_batch):\n",
        "    mb_index = index_rand[j*batch_size : (j+1)*batch_size]\n",
        "    x = input_train[mb_index, :]\n",
        "    t = correct_train[mb_index, :]\n",
        "\n",
        "    forward_propagation(x, True)\n",
        "    backward_propagation(t)\n",
        "    update_wb()\n",
        "\n",
        "\n",
        "plt.plot(train_error_x, train_error_y, label=\"Train\")\n",
        "plt.plot(test_error_x, test_error_y, Label=\"Test\")\n",
        "plt.legend()\n",
        "\n",
        "plt.xlabel(\"Epochs\")\n",
        "plt.ylabel(\"Error\")\n",
        "\n",
        "plt.show()\n",
        "\n",
        "x, t = forward_sample(input_train, correct_train, n_train)\n",
        "count_train = np.sum(np.argmax(ol_1.y, axis=1) == np.argmax(t, axis=1))\n",
        "\n",
        "x, t = forward_sample(input_test, correct_test, n_test)\n",
        "count_test = np.sum(np.argmax(ol_1.y, axis=1) == np.argmax(t, axis=1))\n",
        "\n",
        "print(\"Accuracy Train: \", str(count_train/n_train*100) + \"%\",\n",
        "      \"Accuracy Test: \", str(count_test/n_test*100) + \"%\")"
      ],
      "execution_count": 132,
      "outputs": [
        {
          "output_type": "stream",
          "text": [
            "Epoch: 0/50 Error_train: 2.305124744624834 Error_test: 2.3203946835748948\n",
            "Epoch: 10/50 Error_train: 0.042241505980091174 Error_test: 0.09461295539247748\n",
            "Epoch: 20/50 Error_train: 0.02716474038059781 Error_test: 0.06540977983796188\n",
            "Epoch: 30/50 Error_train: 0.016411575383529907 Error_test: 0.018780682564925898\n",
            "Epoch: 40/50 Error_train: 0.008476292914064217 Error_test: 0.06738823151397776\n"
          ],
          "name": "stdout"
        },
        {
          "output_type": "display_data",
          "data": {
            "image/png": "[encoded data removed]",
            "text/plain": [
              "<Figure size 432x288 with 1 Axes>"
            ]
          },
          "metadata": {
            "tags": [],
            "needs_background": "light"
          }
        },
        {
          "output_type": "stream",
          "text": [
            "Accuracy Train:  99.91652754590984% Accuracy Test:  49.165275459098496%\n"
          ],
          "name": "stdout"
        }
      ]
    },
    {
      "cell_type": "code",
      "metadata": {
        "id": "j3fl6543DLD7",
        "colab_type": "code",
        "colab": {}
      },
      "source": [
        ""
      ],
      "execution_count": 0,
      "outputs": []
    }
  ]
}